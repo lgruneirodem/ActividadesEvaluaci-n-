{
 "cells": [
  {
   "cell_type": "code",
   "execution_count": 12,
   "id": "normal-albert",
   "metadata": {},
   "outputs": [],
   "source": [
    "import os, threading as th, requests, io, sys, socket, time, urllib.request as rq, concurrent as ct, IPython as IP"
   ]
  },
  {
   "cell_type": "code",
   "execution_count": null,
   "id": "automated-republic",
   "metadata": {},
   "outputs": [],
   "source": [
    "img = int(input (\"number\"))"
   ]
  },
  {
   "cell_type": "code",
   "execution_count": 1,
   "id": "mexican-duplicate",
   "metadata": {},
   "outputs": [
    {
     "name": "stdout",
     "output_type": "stream",
     "text": [
      "https://storage.googleapis.com/christian_vladimir_sucuzhanay_bucket/pictures_videos/pic0000.jpeg\n",
      "https://storage.googleapis.com/christian_vladimir_sucuzhanay_bucket/pictures_videos/pic0001.jpeg\n",
      "https://storage.googleapis.com/christian_vladimir_sucuzhanay_bucket/pictures_videos/pic0002.jpeg\n",
      "https://storage.googleapis.com/christian_vladimir_sucuzhanay_bucket/pictures_videos/pic0003.jpeg\n",
      "https://storage.googleapis.com/christian_vladimir_sucuzhanay_bucket/pictures_videos/pic0004.jpeg\n",
      "https://storage.googleapis.com/christian_vladimir_sucuzhanay_bucket/pictures_videos/pic0005.jpeg\n",
      "https://storage.googleapis.com/christian_vladimir_sucuzhanay_bucket/pictures_videos/pic0006.jpeg\n",
      "https://storage.googleapis.com/christian_vladimir_sucuzhanay_bucket/pictures_videos/pic0007.jpeg\n",
      "https://storage.googleapis.com/christian_vladimir_sucuzhanay_bucket/pictures_videos/pic0008.jpeg\n",
      "https://storage.googleapis.com/christian_vladimir_sucuzhanay_bucket/pictures_videos/pic0009.jpeg\n"
     ]
    }
   ],
   "source": [
    "urls = [\"\"]*10\n",
    "\n",
    "for i in range (len(urls)):\n",
    "    urls[i] = \"https://storage.googleapis.com/christian_vladimir_sucuzhanay_bucket/pictures_videos/pic000\" +str(i)+\".jpeg\"\n",
    "    print(urls[i])"
   ]
  },
  {
   "cell_type": "code",
   "execution_count": 7,
   "id": "transparent-stable",
   "metadata": {},
   "outputs": [
    {
     "ename": "SyntaxError",
     "evalue": "invalid syntax (<ipython-input-7-2d37d70f2b0f>, line 1)",
     "output_type": "error",
     "traceback": [
      "\u001b[1;36m  File \u001b[1;32m\"<ipython-input-7-2d37d70f2b0f>\"\u001b[1;36m, line \u001b[1;32m1\u001b[0m\n\u001b[1;33m    wget \"https://storage.googleapis.com/christian_vladimir_sucuzhanay_bucket/pictures_videos/pic000.jpeg\"\u001b[0m\n\u001b[1;37m         ^\u001b[0m\n\u001b[1;31mSyntaxError\u001b[0m\u001b[1;31m:\u001b[0m invalid syntax\n"
     ]
    }
   ],
   "source": [
    "wget https://storage.googleapis.com/christian_vladimir_sucuzhanay_bucket/pictures_videos/pic000.jpeg\n"
   ]
  },
  {
   "cell_type": "code",
   "execution_count": 3,
   "id": "english-complaint",
   "metadata": {},
   "outputs": [],
   "source": [
    "def dwl_a_mano(lt):\n",
    "    wt=0\n",
    "    for i in lt: \n",
    "        wt +=dwl(i)\n",
    "    return wt"
   ]
  },
  {
   "cell_type": "code",
   "execution_count": 4,
   "id": "postal-wings",
   "metadata": {},
   "outputs": [],
   "source": [
    "def dwl_a_toda_maquina(lt): \n",
    "    wt=0\n",
    "    with ct.futures.ThreadPoolExecutor() as wk:\n",
    "        futures=[wk.submit(dwl, i) for i in lt]\n",
    "        for f in ct.as_completed(futures):\n",
    "            wt+=f.result()\n",
    "    return wt"
   ]
  },
  {
   "cell_type": "code",
   "execution_count": 5,
   "id": "violent-victorian",
   "metadata": {},
   "outputs": [],
   "source": [
    "def dwl(img): \n",
    "    img_url= \"https://storage.googleapis.com/christian_vladimir_sucuzhanay_bucket/pictures_videos/pic000.jpeg\".format(img)\n",
    "    \n",
    "    with rq.urlopen(img_url, timeout=80)as conn:\n",
    "        return len(conn.read())\n",
    "    pass"
   ]
  },
  {
   "cell_type": "code",
   "execution_count": 6,
   "id": "bearing-lotus",
   "metadata": {},
   "outputs": [
    {
     "ename": "SyntaxError",
     "evalue": "invalid syntax (<ipython-input-6-9715a8cd5a63>, line 12)",
     "output_type": "error",
     "traceback": [
      "\u001b[1;36m  File \u001b[1;32m\"<ipython-input-6-9715a8cd5a63>\"\u001b[1;36m, line \u001b[1;32m12\u001b[0m\n\u001b[1;33m    a_toda_maquina_t= +=time.perf_counter() - start\u001b[0m\n\u001b[1;37m                      ^\u001b[0m\n\u001b[1;31mSyntaxError\u001b[0m\u001b[1;31m:\u001b[0m invalid syntax\n"
     ]
    }
   ],
   "source": [
    "if __name__== '__main__':\n",
    "    l=list(range(10))\n",
    "    start= time.perf_counter()\n",
    "    a_mano_r=dwl_a_mano(l)\n",
    "    a_mano_t=0 \n",
    "    a_mano_t+=time.perf_counter() - start\n",
    "    print(a_mano_t)\n",
    "    \n",
    "    start = time.perf_counter()\n",
    "    dwl_a_toda_maquina_r = dwl_a_toda_maquina(l)\n",
    "    a_toda_maquina_t =0  \n",
    "    a_toda_maquina_t= +=time.perf_counter() - start \n",
    "    print(a_toda_maquina_t)\n",
    "    print('diferencia es de: {:.2f}'.format(a_mano_t/a_toda_maquina_t))"
   ]
  },
  {
   "cell_type": "code",
   "execution_count": null,
   "id": "going-trunk",
   "metadata": {},
   "outputs": [],
   "source": []
  }
 ],
 "metadata": {
  "kernelspec": {
   "display_name": "Python 3",
   "language": "python",
   "name": "python3"
  },
  "language_info": {
   "codemirror_mode": {
    "name": "ipython",
    "version": 3
   },
   "file_extension": ".py",
   "mimetype": "text/x-python",
   "name": "python",
   "nbconvert_exporter": "python",
   "pygments_lexer": "ipython3",
   "version": "3.8.5"
  }
 },
 "nbformat": 4,
 "nbformat_minor": 5
}
