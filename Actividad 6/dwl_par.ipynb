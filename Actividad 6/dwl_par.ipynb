{
 "cells": [
  {
   "cell_type": "code",
   "execution_count": 26,
   "metadata": {},
   "outputs": [],
   "source": [
    "import os, threading as th, time, urllib.request as rq, concurrent as ct, IPython as IP"
   ]
  },
  {
   "cell_type": "code",
   "execution_count": 27,
   "metadata": {},
   "outputs": [
    {
     "name": "stdin",
     "output_type": "stream",
     "text": [
      "number 4\n"
     ]
    }
   ],
   "source": [
    "img =int(input(\"number\"))"
   ]
  },
  {
   "cell_type": "code",
   "execution_count": 28,
   "metadata": {},
   "outputs": [
    {
     "data": {
      "text/plain": [
       "'C:\\\\Users\\\\leti\\\\PCD\\\\Actividad 6\\\\image-downloader-concurrent-vs-sequential'"
      ]
     },
     "execution_count": 28,
     "metadata": {},
     "output_type": "execute_result"
    }
   ],
   "source": [
    "pwd"
   ]
  },
  {
   "cell_type": "code",
   "execution_count": 29,
   "metadata": {},
   "outputs": [],
   "source": [
    "import concurrent"
   ]
  },
  {
   "cell_type": "code",
   "execution_count": 30,
   "metadata": {},
   "outputs": [],
   "source": [
    "img_url = 'https://storage.googleapis.com/christian_vladimir_sucuzhanay_bucket/pictures_videos/pic{:03d}.jpeg'.format(img)"
   ]
  },
  {
   "cell_type": "code",
   "execution_count": 31,
   "metadata": {},
   "outputs": [
    {
     "data": {
      "text/plain": [
       "'https://storage.googleapis.com/christian_vladimir_sucuzhanay_bucket/pictures_videos/pic004.jpeg'"
      ]
     },
     "execution_count": 31,
     "metadata": {},
     "output_type": "execute_result"
    }
   ],
   "source": [
    "img_url"
   ]
  },
  {
   "cell_type": "code",
   "execution_count": 32,
   "metadata": {},
   "outputs": [],
   "source": [
    "def dwl_a_mano(lt):\n",
    "    wt=0\n",
    "    for i in lt:\n",
    "        wt +=dwl(i)\n",
    "    return wt"
   ]
  },
  {
   "cell_type": "code",
   "execution_count": 33,
   "metadata": {},
   "outputs": [],
   "source": [
    "def dwl_a_toda_maquina(lt):\n",
    "    wt=0\n",
    "    with concurrent.futures.ThreadPoolExecutor() as wk:\n",
    "        futures=[wk.submit(dwl,i) for i in lt]\n",
    "        for f in concurrent.futures.as_completed(futures):\n",
    "            wt+=f.result()\n",
    "    return wt"
   ]
  },
  {
   "cell_type": "code",
   "execution_count": 34,
   "metadata": {},
   "outputs": [],
   "source": [
    "def dwl(img):\n",
    "    img_url = 'https://storage.googleapis.com/christian_vladimir_sucuzhanay_bucket/pictures_videos/pic{:03d}.jpeg'.format(img)\n",
    "    with rq.urlopen(img_url, timeout=80) as conn:\n",
    "        return len(conn.read())"
   ]
  },
  {
   "cell_type": "code",
   "execution_count": 35,
   "metadata": {},
   "outputs": [],
   "source": [
    "a='https://storage.googleapis.com/christian_vladimir_sucuzhanay_bucket/pictures_videos/pic00'+ str(i) + '.jpeg'"
   ]
  },
  {
   "cell_type": "code",
   "execution_count": 36,
   "metadata": {},
   "outputs": [
    {
     "name": "stdout",
     "output_type": "stream",
     "text": [
      "6.273252300000024\n",
      "5.789783800000009\n",
      "Diferencia es de: 1.08\n"
     ]
    }
   ],
   "source": [
    "if __name__ == '__main__':\n",
    "    l= list(range(10))\n",
    "    start = time.perf_counter()\n",
    "    a_mano_r = dwl_a_mano(l)\n",
    "    a_mano_t = 0\n",
    "    a_mano_t += time.perf_counter() - start\n",
    "    print(a_mano_t)\n",
    "    \n",
    "    start = time.perf_counter()\n",
    "    dwl_a_toda_maquina_r = dwl_a_toda_maquina(l)\n",
    "    a_toda_maquina_t = 0\n",
    "    a_toda_maquina_t += time.perf_counter() - start\n",
    "    print(a_toda_maquina_t)\n",
    "    print('Diferencia es de: {:.2f}'.format(a_mano_t/a_toda_maquina_t))"
   ]
  },
  {
   "cell_type": "code",
   "execution_count": 25,
   "metadata": {},
   "outputs": [
    {
     "name": "stdout",
     "output_type": "stream",
     "text": [
      "https://storage.googleapis.com/christian_vladimir_sucuzhanay_bucket/pictures_videos/pic000.jpeg\n",
      "https://storage.googleapis.com/christian_vladimir_sucuzhanay_bucket/pictures_videos/pic001.jpeg\n",
      "https://storage.googleapis.com/christian_vladimir_sucuzhanay_bucket/pictures_videos/pic002.jpeg\n",
      "https://storage.googleapis.com/christian_vladimir_sucuzhanay_bucket/pictures_videos/pic003.jpeg\n",
      "https://storage.googleapis.com/christian_vladimir_sucuzhanay_bucket/pictures_videos/pic004.jpeg\n",
      "https://storage.googleapis.com/christian_vladimir_sucuzhanay_bucket/pictures_videos/pic005.jpeg\n",
      "https://storage.googleapis.com/christian_vladimir_sucuzhanay_bucket/pictures_videos/pic006.jpeg\n",
      "https://storage.googleapis.com/christian_vladimir_sucuzhanay_bucket/pictures_videos/pic007.jpeg\n",
      "https://storage.googleapis.com/christian_vladimir_sucuzhanay_bucket/pictures_videos/pic008.jpeg\n",
      "https://storage.googleapis.com/christian_vladimir_sucuzhanay_bucket/pictures_videos/pic009.jpeg\n"
     ]
    }
   ],
   "source": [
    "for i in range(0,10):\n",
    "    img_url = 'https://storage.googleapis.com/christian_vladimir_sucuzhanay_bucket/pictures_videos/pic{:03d}.jpeg'.format(i)\n",
    "    print(img_url)"
   ]
  },
  {
   "cell_type": "code",
   "execution_count": null,
   "metadata": {},
   "outputs": [],
   "source": [
    "lt_=list(range(1,10))"
   ]
  },
  {
   "cell_type": "code",
   "execution_count": null,
   "metadata": {},
   "outputs": [],
   "source": [
    "lt_"
   ]
  },
  {
   "cell_type": "code",
   "execution_count": null,
   "metadata": {},
   "outputs": [],
   "source": [
    "dwl_a_mano(lt_)"
   ]
  },
  {
   "cell_type": "code",
   "execution_count": null,
   "metadata": {},
   "outputs": [],
   "source": [
    "IP.display.Image(\"image_donwloader.jpg\")"
   ]
  },
  {
   "cell_type": "code",
   "execution_count": null,
   "metadata": {},
   "outputs": [],
   "source": [
    "ls"
   ]
  },
  {
   "cell_type": "code",
   "execution_count": null,
   "metadata": {},
   "outputs": [],
   "source": [
    "import time\n",
    "import urllib.request\n",
    "import multiprocessing as mp\n",
    "import concurrent.futures\n",
    "\n",
    "def seq_download_images(img_numbers):\n",
    "    total_bytes = 0\n",
    "    for num in img_numbers:\n",
    "        total_bytes += _download_image(num)\n",
    "    return total_bytes\n",
    "\n",
    "def _download_image(image_number):\n",
    "    image_number = (abs(image_number) % 10) + 1 # force btw 1 and 50\n",
    "    image_url = 'https://storage.googleapis.com/christian_vladimir_sucuzhanay_bucket/pictures_videos/pic{:03}.jpeg'.format(image_number)\n",
    "    \n",
    "    try:\n",
    "        with urllib.request.urlopen(image_url, timeout=60) as conn:\n",
    "            return len(conn.read()) # num bytes in dwd img\n",
    "    except urllib.error.HTTPError:\n",
    "        print('Oh god', image_number)\n",
    "    except Exception as e:\n",
    "        print(e)\n",
    "\n",
    "def par_download_images(image_numbers):\n",
    "    total_bytes = 0\n",
    "    with concurrent.futures.ThreadPoolExecutor() as pool:\n",
    "        futures = [pool.submit(_download_image, num) for num in image_numbers]\n",
    "        for f in concurrent.futures.as_completed(futures):\n",
    "            total_bytes += f.result()\n",
    "    return total_bytes\n",
    "\n",
    "if __name__ == '__main__':\n",
    "    NUM_EVAL_RUNS = 5\n",
    "    IMAGE_NUMBERS = list(range(1,10))\n",
    "    print(IMAGE_NUMBERS)\n",
    "\n",
    "    print('Evaluating Sequential Implementation...')\n",
    "    sequential_result = seq_download_images(IMAGE_NUMBERS)\n",
    "    sequential_time = 0\n",
    "    for i in range(NUM_EVAL_RUNS):\n",
    "        print(i)\n",
    "        start = time.perf_counter()\n",
    "        seq_download_images(IMAGE_NUMBERS)\n",
    "        sequential_time += time.perf_counter() - start\n",
    "    sequential_time /= NUM_EVAL_RUNS\n",
    "\n",
    "    print('Evaluating Parallel Implementation...')\n",
    "    parallel_result = par_download_images(IMAGE_NUMBERS)\n",
    "    parallel_time = 0\n",
    "    for i in range(NUM_EVAL_RUNS):\n",
    "        print(i)\n",
    "        start = time.perf_counter()\n",
    "        par_download_images(IMAGE_NUMBERS)\n",
    "        parallel_time += time.perf_counter() - start\n",
    "    parallel_time /= NUM_EVAL_RUNS\n",
    "\n",
    "    if sequential_result != parallel_result:\n",
    "        raise Exception('sequential_result and parallel_result do not match.')\n",
    "    print('Average Sequential Time: {:.2f} ms'.format(sequential_time*1000))\n",
    "    print('Average Parallel Time: {:.2f} ms'.format(parallel_time*1000))\n",
    "    print('Speedup: {:.2f}'.format(sequential_time/parallel_time))\n",
    "    print('Efficiency: {:.2f}%'.format(100*(sequential_time/parallel_time)/mp.cpu_count()))\n"
   ]
  },
  {
   "cell_type": "code",
   "execution_count": null,
   "metadata": {},
   "outputs": [],
   "source": [
    "a_url_=[]\n",
    "\n",
    "a_url_.append()"
   ]
  },
  {
   "cell_type": "code",
   "execution_count": null,
   "metadata": {},
   "outputs": [],
   "source": [
    "for i in range(10):\n",
    "    img_uri_='https://storage.googleapis.com/christian_vladimir_sucuzhanay_bucket/pictures_videos/pic00'+str(i)+'.jpeg'\n",
    "    a_url_.append(img_uri_)\n"
   ]
  },
  {
   "cell_type": "code",
   "execution_count": null,
   "metadata": {},
   "outputs": [],
   "source": [
    "a_url_"
   ]
  },
  {
   "cell_type": "code",
   "execution_count": null,
   "metadata": {},
   "outputs": [],
   "source": [
    "img_uri_"
   ]
  },
  {
   "cell_type": "code",
   "execution_count": null,
   "metadata": {},
   "outputs": [],
   "source": [
    "id_img = \"002\""
   ]
  },
  {
   "cell_type": "code",
   "execution_count": null,
   "metadata": {},
   "outputs": [],
   "source": [
    "pwd"
   ]
  },
  {
   "cell_type": "code",
   "execution_count": null,
   "metadata": {},
   "outputs": [],
   "source": [
    "\n",
    "\n",
    "import time\n",
    "import urllib.request\n",
    "import multiprocessing as mp\n",
    "import concurrent.futures\n",
    "\n",
    "\"\"\" sequential implementation of multiple image downloader\n",
    "    returns total bytes from downloading all images in image_numbers list \"\"\"\n",
    "def seq_download_images(image_numbers):\n",
    "    total_bytes = 0\n",
    "    for num in image_numbers:\n",
    "        total_bytes += _download_image(num)\n",
    "    return total_bytes\n",
    "\n",
    "\"\"\" helper function returns number of bytes from downloading image \"\"\"\n",
    "def _download_image(image_number):\n",
    "    image_number = (abs(image_number) % 50) + 1 # force between 1 and 50\n",
    "    image_url = 'http://699340.youcanlearnit.net/image{:03d}.jpg'.format(image_number)\n",
    "    try:\n",
    "        with urllib.request.urlopen(image_url, timeout=60) as conn:\n",
    "            return len(conn.read()) # number of bytes in downloaded image\n",
    "    except urllib.error.HTTPError:\n",
    "        print('HTTPError: Could not retrieve image ', image_number)\n",
    "    except Exception as e:\n",
    "        print(e)\n",
    "\n",
    "\"\"\" parallel implementation of multiple image downloader\n",
    "    returns total bytes from downloading all images in image_numbers list \"\"\"\n",
    "def par_download_images(image_numbers):\n",
    "    total_bytes = 0\n",
    "    with concurrent.futures.ThreadPoolExecutor() as pool:\n",
    "        futures = [pool.submit(_download_image, num) for num in image_numbers]\n",
    "        for f in concurrent.futures.as_completed(futures):\n",
    "            total_bytes += f.result()\n",
    "    return total_bytes\n",
    "\n",
    "if __name__ == '__main__':\n",
    "    NUM_EVAL_RUNS = 5\n",
    "    IMAGE_NUMBERS = list(range(1,50))\n",
    "\n",
    "    print('Evaluating Sequential Implementation...')\n",
    "    sequential_result = seq_download_images(IMAGE_NUMBERS)\n",
    "    sequential_time = 0\n",
    "    for i in range(NUM_EVAL_RUNS):\n",
    "        print(i)\n",
    "        start = time.perf_counter()\n",
    "        seq_download_images(IMAGE_NUMBERS)\n",
    "        sequential_time += time.perf_counter() - start\n",
    "    sequential_time /= NUM_EVAL_RUNS\n",
    "\n",
    "    print('Evaluating Parallel Implementation...')\n",
    "    parallel_result = par_download_images(IMAGE_NUMBERS)\n",
    "    parallel_time = 0\n",
    "    for i in range(NUM_EVAL_RUNS):\n",
    "        print(i)\n",
    "        start = time.perf_counter()\n",
    "        par_download_images(IMAGE_NUMBERS)\n",
    "        parallel_time += time.perf_counter() - start\n",
    "    parallel_time /= NUM_EVAL_RUNS\n",
    "\n",
    "    if sequential_result != parallel_result:\n",
    "        raise Exception('sequential_result and parallel_result do not match.')\n",
    "    print('Average Sequential Time: {:.2f} ms'.format(sequential_time*1000))\n",
    "    print('Average Parallel Time: {:.2f} ms'.format(parallel_time*1000))\n",
    "    print('Speedup: {:.2f}'.format(sequential_time/parallel_time))\n",
    "    print('Efficiency: {:.2f}%'.format(100*(sequential_time/parallel_time)/mp.cpu_count()))\n"
   ]
  }
 ],
 "metadata": {
  "kernelspec": {
   "display_name": "Python 3",
   "language": "python",
   "name": "python3"
  },
  "language_info": {
   "codemirror_mode": {
    "name": "ipython",
    "version": 3
   },
   "file_extension": ".py",
   "mimetype": "text/x-python",
   "name": "python",
   "nbconvert_exporter": "python",
   "pygments_lexer": "ipython3",
   "version": "3.8.5"
  },
  "widgets": {
   "application/vnd.jupyter.widget-state+json": {
    "state": {},
    "version_major": 2,
    "version_minor": 0
   }
  }
 },
 "nbformat": 4,
 "nbformat_minor": 4
}
