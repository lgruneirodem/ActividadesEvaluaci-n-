{
 "cells": [
  {
   "cell_type": "markdown",
   "id": "intellectual-revolution",
   "metadata": {},
   "source": [
    "## Second python program "
   ]
  },
  {
   "cell_type": "markdown",
   "id": "czech-gender",
   "metadata": {},
   "source": [
    "1. ¿Cuántos cores tiene su equipo?"
   ]
  },
  {
   "cell_type": "code",
   "execution_count": 2,
   "id": "varied-charge",
   "metadata": {},
   "outputs": [],
   "source": [
    "import os "
   ]
  },
  {
   "cell_type": "code",
   "execution_count": 3,
   "id": "residential-white",
   "metadata": {},
   "outputs": [
    {
     "data": {
      "text/plain": [
       "8"
      ]
     },
     "execution_count": 3,
     "metadata": {},
     "output_type": "execute_result"
    }
   ],
   "source": [
    "os.cpu_count()"
   ]
  },
  {
   "cell_type": "markdown",
   "id": "balanced-stocks",
   "metadata": {},
   "source": [
    "2. ¿Cuántos cores físicos tiene?"
   ]
  },
  {
   "cell_type": "code",
   "execution_count": 6,
   "id": "tropical-challenge",
   "metadata": {},
   "outputs": [
    {
     "data": {
      "text/plain": [
       "4.0"
      ]
     },
     "execution_count": 6,
     "metadata": {},
     "output_type": "execute_result"
    }
   ],
   "source": [
    "os.cpu_count()/2"
   ]
  },
  {
   "cell_type": "markdown",
   "id": "severe-union",
   "metadata": {},
   "source": [
    "3. ¿Cuántos cores lógicos tiene su equipo?"
   ]
  },
  {
   "cell_type": "code",
   "execution_count": 7,
   "id": "considered-hostel",
   "metadata": {},
   "outputs": [
    {
     "name": "stdout",
     "output_type": "stream",
     "text": [
      "Mi PC tiene 8\n"
     ]
    }
   ],
   "source": [
    "print(\"Mi PC tiene \" + str(os.cpu_count()))  "
   ]
  },
  {
   "cell_type": "markdown",
   "id": "cooked-performance",
   "metadata": {},
   "source": [
    "4. Cree una función con el objetivo de mantener la cpu activa al menos 10 segundos "
   ]
  },
  {
   "cell_type": "code",
   "execution_count": 8,
   "id": "unlikely-component",
   "metadata": {},
   "outputs": [],
   "source": [
    "def gastar_tiempo():\n",
    "    while True:\n",
    "        pass  \n",
    "    "
   ]
  },
  {
   "cell_type": "markdown",
   "id": "located-reward",
   "metadata": {},
   "source": [
    "5. ¿Qué versión de python tiene instalada?"
   ]
  },
  {
   "cell_type": "code",
   "execution_count": 9,
   "id": "patent-fountain",
   "metadata": {},
   "outputs": [],
   "source": [
    "import platform as pl"
   ]
  },
  {
   "cell_type": "code",
   "execution_count": 10,
   "id": "gothic-collectible",
   "metadata": {},
   "outputs": [
    {
     "data": {
      "text/plain": [
       "'3.8.5'"
      ]
     },
     "execution_count": 10,
     "metadata": {},
     "output_type": "execute_result"
    }
   ],
   "source": [
    "pl.python_version()"
   ]
  },
  {
   "cell_type": "markdown",
   "id": "mature-holly",
   "metadata": {},
   "source": [
    "6. El bus de su máquina, ¿es de 32 bits o de 64 bits?"
   ]
  },
  {
   "cell_type": "code",
   "execution_count": 11,
   "id": "numerical-wallet",
   "metadata": {},
   "outputs": [
    {
     "data": {
      "text/plain": [
       "('64bit', 'WindowsPE')"
      ]
     },
     "execution_count": 11,
     "metadata": {},
     "output_type": "execute_result"
    }
   ],
   "source": [
    "pl.architecture()"
   ]
  },
  {
   "cell_type": "markdown",
   "id": "signed-pantyhose",
   "metadata": {},
   "source": [
    "7. cree una función que imprima del 1 al 10"
   ]
  },
  {
   "cell_type": "code",
   "execution_count": 2,
   "id": "medium-mississippi",
   "metadata": {},
   "outputs": [],
   "source": [
    "def contar():\n",
    "    for i  in range (1,11):\n",
    "        print (i)"
   ]
  },
  {
   "cell_type": "code",
   "execution_count": 3,
   "id": "religious-america",
   "metadata": {},
   "outputs": [
    {
     "name": "stdout",
     "output_type": "stream",
     "text": [
      "1\n",
      "2\n",
      "3\n",
      "4\n",
      "5\n",
      "6\n",
      "7\n",
      "8\n",
      "9\n",
      "10\n"
     ]
    }
   ],
   "source": [
    "contar()"
   ]
  },
  {
   "cell_type": "markdown",
   "id": "velvet-medication",
   "metadata": {},
   "source": [
    "8. Ejecute concurrentemente 20 veces la función antes mencionada"
   ]
  },
  {
   "cell_type": "code",
   "execution_count": 5,
   "id": "honest-swift",
   "metadata": {},
   "outputs": [],
   "source": [
    "import threading as th\n"
   ]
  },
  {
   "cell_type": "code",
   "execution_count": 6,
   "id": "sharing-flexibility",
   "metadata": {},
   "outputs": [
    {
     "name": "stdout",
     "output_type": "stream",
     "text": [
      "1\n",
      "2\n",
      "3\n",
      "4\n",
      "5\n",
      "6\n",
      "7\n",
      "8\n",
      "9\n",
      "10\n"
     ]
    }
   ],
   "source": [
    "th.Thread(target=contar()).start() #importaos la biblioteca de thearding e invocamos a los hilo"
   ]
  },
  {
   "cell_type": "code",
   "execution_count": 7,
   "id": "nutritional-chest",
   "metadata": {},
   "outputs": [
    {
     "name": "stdout",
     "output_type": "stream",
     "text": [
      "1\n",
      "2\n",
      "3\n",
      "4\n",
      "5\n",
      "6\n",
      "7\n",
      "8\n",
      "9\n",
      "10\n",
      "1\n",
      "2\n",
      "3\n",
      "4\n",
      "5\n",
      "6\n",
      "7\n",
      "8\n",
      "9\n",
      "10\n",
      "1\n",
      "2\n",
      "3\n",
      "4\n",
      "5\n",
      "6\n",
      "7\n",
      "8\n",
      "9\n",
      "10\n",
      "1\n",
      "2\n",
      "3\n",
      "4\n",
      "5\n",
      "6\n",
      "7\n",
      "8\n",
      "9\n",
      "10\n",
      "1\n",
      "2\n",
      "3\n",
      "4\n",
      "5\n",
      "6\n",
      "7\n",
      "8\n",
      "9\n",
      "10\n",
      "1\n",
      "2\n",
      "3\n",
      "4\n",
      "5\n",
      "6\n",
      "7\n",
      "8\n",
      "9\n",
      "10\n",
      "1\n",
      "2\n",
      "3\n",
      "4\n",
      "5\n",
      "6\n",
      "7\n",
      "8\n",
      "9\n",
      "10\n",
      "1\n",
      "2\n",
      "3\n",
      "4\n",
      "5\n",
      "6\n",
      "7\n",
      "8\n",
      "9\n",
      "10\n",
      "1\n",
      "2\n",
      "3\n",
      "4\n",
      "5\n",
      "6\n",
      "7\n",
      "8\n",
      "9\n",
      "10\n",
      "1\n",
      "2\n",
      "3\n",
      "4\n",
      "5\n",
      "6\n",
      "7\n",
      "8\n",
      "9\n",
      "10\n",
      "1\n",
      "2\n",
      "3\n",
      "4\n",
      "5\n",
      "6\n",
      "7\n",
      "8\n",
      "9\n",
      "10\n",
      "1\n",
      "2\n",
      "3\n",
      "4\n",
      "5\n",
      "6\n",
      "7\n",
      "8\n",
      "9\n",
      "10\n",
      "1\n",
      "2\n",
      "3\n",
      "4\n",
      "5\n",
      "6\n",
      "7\n",
      "8\n",
      "9\n",
      "10\n",
      "1\n",
      "2\n",
      "3\n",
      "4\n",
      "5\n",
      "6\n",
      "7\n",
      "8\n",
      "9\n",
      "10\n",
      "1\n",
      "2\n",
      "3\n",
      "4\n",
      "5\n",
      "6\n",
      "7\n",
      "8\n",
      "9\n",
      "10\n",
      "1\n",
      "2\n",
      "3\n",
      "4\n",
      "5\n",
      "6\n",
      "7\n",
      "8\n",
      "9\n",
      "10\n",
      "1\n",
      "2\n",
      "3\n",
      "4\n",
      "5\n",
      "6\n",
      "7\n",
      "8\n",
      "9\n",
      "10\n",
      "1\n",
      "2\n",
      "3\n",
      "4\n",
      "5\n",
      "6\n",
      "7\n",
      "8\n",
      "9\n",
      "10\n",
      "1\n",
      "2\n",
      "3\n",
      "4\n",
      "5\n",
      "6\n",
      "7\n",
      "8\n",
      "9\n",
      "10\n",
      "1\n",
      "2\n",
      "3\n",
      "4\n",
      "5\n",
      "6\n",
      "7\n",
      "8\n",
      "9\n",
      "10\n"
     ]
    }
   ],
   "source": [
    "for j in range(20):\n",
    "    th.Thread(target= contar()).start()"
   ]
  },
  {
   "cell_type": "markdown",
   "id": "photographic-knock",
   "metadata": {},
   "source": [
    "9. ¿Cuántos hilos están activos? "
   ]
  },
  {
   "cell_type": "code",
   "execution_count": 8,
   "id": "pretty-lawyer",
   "metadata": {},
   "outputs": [
    {
     "data": {
      "text/plain": [
       "7"
      ]
     },
     "execution_count": 8,
     "metadata": {},
     "output_type": "execute_result"
    }
   ],
   "source": [
    "th.active_count()"
   ]
  },
  {
   "cell_type": "markdown",
   "id": "dimensional-heaven",
   "metadata": {},
   "source": [
    "10. Imprima sus Dni(identificadores) y matelo"
   ]
  },
  {
   "cell_type": "code",
   "execution_count": 9,
   "id": "foster-killing",
   "metadata": {},
   "outputs": [
    {
     "data": {
      "text/plain": [
       "[<_MainThread(MainThread, started 9288)>,\n",
       " <Thread(Tornado selector, started daemon 21512)>,\n",
       " <Thread(Thread-4, started daemon 10428)>,\n",
       " <Heartbeat(Thread-5, started daemon 21356)>,\n",
       " <Thread(Tornado selector, started daemon 9128)>,\n",
       " <HistorySavingThread(IPythonHistorySavingThread, started 15676)>,\n",
       " <ParentPollerWindows(Thread-3, started daemon 20564)>]"
      ]
     },
     "execution_count": 9,
     "metadata": {},
     "output_type": "execute_result"
    }
   ],
   "source": [
    "th.enumerate()"
   ]
  },
  {
   "cell_type": "code",
   "execution_count": null,
   "id": "orange-advertiser",
   "metadata": {},
   "outputs": [],
   "source": []
  }
 ],
 "metadata": {
  "kernelspec": {
   "display_name": "Python 3",
   "language": "python",
   "name": "python3"
  },
  "language_info": {
   "codemirror_mode": {
    "name": "ipython",
    "version": 3
   },
   "file_extension": ".py",
   "mimetype": "text/x-python",
   "name": "python",
   "nbconvert_exporter": "python",
   "pygments_lexer": "ipython3",
   "version": "3.8.5"
  }
 },
 "nbformat": 4,
 "nbformat_minor": 5
}
