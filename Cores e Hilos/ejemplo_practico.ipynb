{
 "cells": [
  {
   "cell_type": "code",
   "execution_count": 1,
   "id": "incredible-extent",
   "metadata": {},
   "outputs": [],
   "source": [
    "import os"
   ]
  },
  {
   "cell_type": "code",
   "execution_count": null,
   "id": "developmental-shopper",
   "metadata": {},
   "outputs": [],
   "source": []
  },
  {
   "cell_type": "code",
   "execution_count": 2,
   "id": "behind-location",
   "metadata": {},
   "outputs": [],
   "source": [
    "import threading"
   ]
  },
  {
   "cell_type": "code",
   "execution_count": 3,
   "id": "freelance-webster",
   "metadata": {},
   "outputs": [],
   "source": [
    "# crear funciones en phyton\n",
    "def gastar_cpu():\n",
    "    while TRUE:\n",
    "        pass"
   ]
  },
  {
   "cell_type": "code",
   "execution_count": 4,
   "id": "dense-arkansas",
   "metadata": {},
   "outputs": [],
   "source": [
    "# obtener el PID (PROCESS ID)"
   ]
  },
  {
   "cell_type": "code",
   "execution_count": 5,
   "id": "opening-green",
   "metadata": {},
   "outputs": [
    {
     "name": "stdout",
     "output_type": "stream",
     "text": [
      "El PID es:  10052\n"
     ]
    }
   ],
   "source": [
    "print(\"El PID es: \",os.getpid())\n"
   ]
  },
  {
   "cell_type": "code",
   "execution_count": 6,
   "id": "southern-mauritius",
   "metadata": {},
   "outputs": [
    {
     "name": "stdout",
     "output_type": "stream",
     "text": [
      "El PID es:  10052\n"
     ]
    }
   ],
   "source": [
    "print(\"El PID es: \",os.getpid())"
   ]
  },
  {
   "cell_type": "raw",
   "id": "particular-librarian",
   "metadata": {},
   "source": []
  },
  {
   "cell_type": "code",
   "execution_count": 7,
   "id": "marked-combine",
   "metadata": {},
   "outputs": [
    {
     "name": "stdout",
     "output_type": "stream",
     "text": [
      "tengo hilos activos:  <function active_count at 0x000002B7E7B555E0>\n"
     ]
    }
   ],
   "source": [
    "print(\"tengo hilos activos: \", threading.activeCount)"
   ]
  },
  {
   "cell_type": "code",
   "execution_count": 8,
   "id": "polish-rebel",
   "metadata": {},
   "outputs": [
    {
     "name": "stdout",
     "output_type": "stream",
     "text": [
      "tengo hilos activos:  <function active_count at 0x000002B7E7B555E0>\n"
     ]
    }
   ],
   "source": [
    "print(\"tengo hilos activos: \", threading.activeCount)"
   ]
  },
  {
   "cell_type": "code",
   "execution_count": null,
   "id": "early-three",
   "metadata": {},
   "outputs": [],
   "source": []
  }
 ],
 "metadata": {
  "kernelspec": {
   "display_name": "Python 3",
   "language": "python",
   "name": "python3"
  },
  "language_info": {
   "codemirror_mode": {
    "name": "ipython",
    "version": 3
   },
   "file_extension": ".py",
   "mimetype": "text/x-python",
   "name": "python",
   "nbconvert_exporter": "python",
   "pygments_lexer": "ipython3",
   "version": "3.8.5"
  }
 },
 "nbformat": 4,
 "nbformat_minor": 5
}
