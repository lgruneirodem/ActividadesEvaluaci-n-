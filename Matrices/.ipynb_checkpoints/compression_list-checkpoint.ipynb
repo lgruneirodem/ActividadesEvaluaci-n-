{
 "cells": [
  {
   "cell_type": "markdown",
   "id": "composed-documentary",
   "metadata": {},
   "source": [
    "Generar una lista con los primero 100 estudiantes de los 16.000 que estudian en la uem."
   ]
  },
  {
   "cell_type": "code",
   "execution_count": null,
   "id": "manufactured-million",
   "metadata": {},
   "outputs": [],
   "source": [
    "import random"
   ]
  },
  {
   "cell_type": "code",
   "execution_count": null,
   "id": "systematic-machinery",
   "metadata": {},
   "outputs": [],
   "source": [
    "premiados = [random.randrange(21_000_000, 22_999_999) for _ in range (100)]    "
   ]
  },
  {
   "cell_type": "code",
   "execution_count": null,
   "id": "automatic-directive",
   "metadata": {},
   "outputs": [],
   "source": [
    "type(premiados)"
   ]
  },
  {
   "cell_type": "markdown",
   "id": "psychological-sodium",
   "metadata": {},
   "source": [
    "Generar una matiz de 10x20 sin numpy"
   ]
  },
  {
   "cell_type": "code",
   "execution_count": 1,
   "id": "severe-queens",
   "metadata": {},
   "outputs": [],
   "source": [
    "fil = input(\"Num de filas: \")"
   ]
  },
  {
   "cell_type": "code",
   "execution_count": null,
   "id": "ranging-burner",
   "metadata": {},
   "outputs": [],
   "source": [
    "col= input(\"Num col: \")"
   ]
  },
  {
   "cell_type": "code",
   "execution_count": 2,
   "id": "capable-bennett",
   "metadata": {},
   "outputs": [
    {
     "data": {
      "text/plain": [
       "[[0, 1, 2, 3], [0, 1, 2, 3], [0, 1, 2, 3]]"
      ]
     },
     "execution_count": 2,
     "metadata": {},
     "output_type": "execute_result"
    }
   ],
   "source": [
    "[[j for j in range (col)]for i in range (fil)]"
   ]
  },
  {
   "cell_type": "code",
   "execution_count": null,
   "id": "armed-monitoring",
   "metadata": {},
   "outputs": [],
   "source": [
    "len(a1) #devuleve las filas"
   ]
  },
  {
   "cell_type": "markdown",
   "id": "presidential-arthritis",
   "metadata": {},
   "source": [
    "Generar una matriz de 30x 20 "
   ]
  },
  {
   "cell_type": "code",
   "execution_count": null,
   "id": "varying-tactics",
   "metadata": {},
   "outputs": [],
   "source": [
    "[[j for j in range (30)]for i in range (20)]"
   ]
  },
  {
   "cell_type": "code",
   "execution_count": null,
   "id": "functional-scheduling",
   "metadata": {},
   "outputs": [],
   "source": [
    "print (b1)"
   ]
  },
  {
   "cell_type": "markdown",
   "id": "recorded-router",
   "metadata": {},
   "source": [
    "Una matriz que genere todos los numeros de dni "
   ]
  },
  {
   "cell_type": "raw",
   "id": "effective-montreal",
   "metadata": {},
   "source": [
    "[for i in range "
   ]
  },
  {
   "cell_type": "markdown",
   "id": "recovered-vacation",
   "metadata": {},
   "source": [
    "multiplicar dos matrices"
   ]
  },
  {
   "cell_type": "code",
   "execution_count": null,
   "id": "stunning-notice",
   "metadata": {},
   "outputs": [],
   "source": [
    "def PAR_CORE (a,b,i_mc,f_mc, mc):"
   ]
  }
 ],
 "metadata": {
  "kernelspec": {
   "display_name": "Python 3",
   "language": "python",
   "name": "python3"
  },
  "language_info": {
   "codemirror_mode": {
    "name": "ipython",
    "version": 3
   },
   "file_extension": ".py",
   "mimetype": "text/x-python",
   "name": "python",
   "nbconvert_exporter": "python",
   "pygments_lexer": "ipython3",
   "version": "3.8.5"
  }
 },
 "nbformat": 4,
 "nbformat_minor": 5
}
