{
 "cells": [
  {
   "cell_type": "code",
   "execution_count": null,
   "id": "c73047ef",
   "metadata": {},
   "outputs": [],
   "source": [
    "import random # Para generar num. aleatorios en la A y B \n",
    "import math\n",
    "import multiprocessing as mp  # Para trabajar en paralelo\n",
    "import time\n"
   ]
  },
  {
   "cell_type": "code",
   "execution_count": null,
   "id": "a7ae917d",
   "metadata": {},
   "outputs": [],
   "source": [
    "def sec_mult(A, B): # f() que calcula la mult. en secuencial, como toda la vida se ha hecho \n",
    "    C = [[0] * n_col_B for i in range(n_fil_A)] # Crear y poblar la matrix  C = A*B\n",
    "    for i in range(n_fil_A): # Hago la multiplicacion de AxB = C, i para iterar sobre las filas de A\n",
    "        for j in range(n_col_B): # j para iterar sobre las columnas de B\n",
    "            for k in range(n_col_A): # k para iterar en C\n",
    "                C[i][j] += A[i][k] * B[k][j] # Aqui se hace la multiplicación y guardo en C.\n",
    "    return C"
   ]
  },
  {
   "cell_type": "code",
   "execution_count": null,
   "id": "af6722c2",
   "metadata": {},
   "outputs": [],
   "source": [
    "def par_mult(A, B): # f() que prepara el reparto de trabajo para la mult. en paralelo\n",
    "    n_cores = mp.cpu_count() # Obtengo los cores de mi pc\n",
    "    size_col = math.ceil(n_col_B/n_cores) # Columnas  a procesar x c/cpre, ver Excel adjunto\n",
    "    size_fil = math.ceil(n_fil_A/n_cores) # Filas a procesar x c/cpre, ver Excel adjunto\n",
    "    MC = mp.RawArray('i', n_fil_A * n_col_B) # Array MC de memoria compartida donde se almacenaran los resultados, ver excel adjunto\n",
    "    cores = [] # Array para guardar los cores y su trabajo\n",
    "    for core in range(n_cores):# Asigno a cada core el trabajo que le toca, ver excel adjunto\n",
    "        i_MC = min(core * size_fil, n_fil_A) # Calculo i para marcar inicio del trabajo del core en relacion a las filas\n",
    "        f_MC = min((core + 1) * size_fil, n_fil_A) # Calculo f para marcar fin del trabajo del core, ver excel\n",
    "        cores.append(mp.Process(target=par_core, args=(A, B, MC, i_MC, f_MC)))# Añado al Array los cores y su trabajo\n",
    "    for core in cores:\n",
    "        core.start()# Arranco y ejecuto el trabajo para c/ uno de los cores que tenga mi equipo, ver excel\n",
    "    # for core in cores:\n",
    "    #     core.join()# Bloqueo cualquier llamada hasta que terminen su trabajo todos los cores\n",
    "    C_2D = [[0] * n_col_B for i in range(n_fil_A)] # Convierto el array unidimensional MC en una matrix 2D (C_2D) \n",
    "    for i in range(n_fil_A):# i para iterar sobre las filas de A\n",
    "        for j in range(n_col_B):# j para iterar sobre las columnas de B\n",
    "            C_2D[i][j] = MC[i*n_col_B + j] # Guardo el C_2D los datos del array MC\n",
    "    return C_2D\n"
   ]
  },
  {
   "cell_type": "code",
   "execution_count": null,
   "id": "f9fa4835",
   "metadata": {},
   "outputs": [],
   "source": [
    "def par_core(A, B, MC, i_MC, f_MC): # La tarea que hacen todos los cores\n",
    "    for i in range(i_MC, f_MC): # Size representado en colores en el excel que itera sobre las filas en A\n",
    "        for j in range(len(B[0])): # Size representado en colores en el excel que itera sobre las columnas en B\n",
    "            for k in range(len(A[0])): # n_fil_B o lo que es l mismo el n_col_A\n",
    "                MC[i*len(B[0]) + j] += A[i][k] * B[k][j]# Guarda resultado en MC[] de cada core"
   ]
  },
  {
   "cell_type": "code",
   "execution_count": null,
   "id": "2a7c3f4a",
   "metadata": {},
   "outputs": [],
   "source": [
    "if __name__ == '__main__':\n",
    "    A = [[random.randint(0,9) for i in range(500)] for j in range(500)] # Genero A[21535220][6]con num. aleatorios del 0 al 215, ver excel\n",
    "    B = [[random.randint(0,9) for i in range(500)] for j in range(500)] # Genero B[6][21535220]con num. aleatorios del 0 al 215, ver excel\n",
    "    n_fil_A = len(A) # Obtengo num de filas de A \n",
    "    n_col_A = len(A[0]) # Obtengo num de colunmas de A \n",
    "    n_fil_B = len(B) # Obtengo num de filas de B\n",
    "    n_col_B = len(B[0]) # # Obtengo num de filas de B\n",
    "    if n_col_A != n_fil_B: raise Exception('Dimensiones no validas') # Compruebo que se puedan multiplicar A y B\n",
    "    inicioS = time.time()\n",
    "    sec_mult(A, B) # Ejecuto multiplicacion secuencial\n",
    "    finS = time.time()\n",
    "    inicioP = time.time()\n",
    "    par_mult(A, B) # Ejecuto multiplicacion paralela\n",
    "    finP = time.time()\n",
    "    print('\\n\\nMatriz  A y B se han multiplicado con exito en SECUENCIAL ha tardado ', finS-inicioS, ' y en PARALELO ', finP-inicioP)"
   ]
  },
  {
   "cell_type": "code",
   "execution_count": null,
   "id": "087fb595",
   "metadata": {},
   "outputs": [],
   "source": []
  },
  {
   "cell_type": "markdown",
   "id": "7a0806ea",
   "metadata": {},
   "source": [
    "## Otro ejercicio"
   ]
  },
  {
   "cell_type": "code",
   "execution_count": null,
   "id": "6eec8d7a",
   "metadata": {},
   "outputs": [],
   "source": [
    "import multiprocessing as mp, os"
   ]
  },
  {
   "cell_type": "code",
   "execution_count": null,
   "id": "48832566",
   "metadata": {},
   "outputs": [],
   "source": [
    "def par(a,b):\n",
    "    mc=mp.RawArray('i', n_fil_a*n_col_b)\n",
    "    n_cores= os.cpu_count()\n",
    "    size_f= math.ceil(n_fil_a/n_cores)\n",
    "    size_c=math.ceil(n_col_b/n_cores)\n",
    "    cores=[]\n",
    "    for core in range (n_cores):\n",
    "        i_mc=min(cores*size_f,size_f)\n",
    "        f_mc=min((cores+1)*size_f,size_f)\n",
    "        cores.append(mp.Process(target=PAR_core, args=(a,b,i_mc,f_mc)))\n",
    "    for core in cores:\n",
    "        core.start()\n",
    "    for core in cores:\n",
    "        core.join()\n",
    "\n",
    "    C_2D=[[0]*n_col_n for i in range (n_fil_a)]\n",
    "    for i in range (n_fil_a):\n",
    "        for j in range (n_col_b):\n",
    "            C_2D[i][j]=mc[i*n_col_b+j]\n",
    "            \n",
    "    return C_2D\n",
    "    "
   ]
  },
  {
   "cell_type": "code",
   "execution_count": null,
   "id": "593f00e0",
   "metadata": {},
   "outputs": [],
   "source": [
    "mp.RawArray('i',80)  #el array requiere que le pases el tipo de dato que es el array es decir int (i), double(d),short(h), etc "
   ]
  },
  {
   "cell_type": "code",
   "execution_count": null,
   "id": "b0bf9a1b",
   "metadata": {},
   "outputs": [],
   "source": [
    "core1=[]\n",
    "for core1 in range (os.cpu_count()):\n",
    "    i_mc=core1*40\n",
    "    f_mc=(core1+1)*5\n",
    "    print(i_mc,f_mc)"
   ]
  },
  {
   "cell_type": "code",
   "execution_count": null,
   "id": "7de4505f",
   "metadata": {},
   "outputs": [],
   "source": []
  }
 ],
 "metadata": {
  "kernelspec": {
   "display_name": "Python 3",
   "language": "python",
   "name": "python3"
  },
  "language_info": {
   "codemirror_mode": {
    "name": "ipython",
    "version": 3
   },
   "file_extension": ".py",
   "mimetype": "text/x-python",
   "name": "python",
   "nbconvert_exporter": "python",
   "pygments_lexer": "ipython3",
   "version": "3.8.8"
  }
 },
 "nbformat": 4,
 "nbformat_minor": 5
}
